{
 "cells": [
  {
   "cell_type": "code",
   "execution_count": 1,
   "metadata": {},
   "outputs": [],
   "source": [
    "#!/usr/bin/env python\n",
    "\n",
    "#import numpy: the data structure that will handle an image\n",
    "import numpy as np\n",
    "\n",
    "#import openCV\n",
    "import cv2\n",
    "\n",
    "\n"
   ]
  },
  {
   "cell_type": "code",
   "execution_count": 2,
   "metadata": {},
   "outputs": [
    {
     "name": "stdout",
     "output_type": "stream",
     "text": [
      "read an image from file\n"
     ]
    }
   ],
   "source": [
    "image_name = \"blackwhite\"\n",
    "\n",
    "print ('read an image from file')\n",
    "img = cv2.imread(\"images/\"+image_name+\".jpg\")"
   ]
  },
  {
   "cell_type": "code",
   "execution_count": 3,
   "metadata": {},
   "outputs": [
    {
     "name": "stdout",
     "output_type": "stream",
     "text": [
      "display the content of the image\n",
      "[[[255 255 255]\n",
      "  [255 255 255]\n",
      "  [255 255 255]\n",
      "  ...\n",
      "  [  0   0   0]\n",
      "  [  0   0   0]\n",
      "  [  2   2   2]]\n",
      "\n",
      " [[255 255 255]\n",
      "  [255 255 255]\n",
      "  [255 255 255]\n",
      "  ...\n",
      "  [  0   0   0]\n",
      "  [  0   0   0]\n",
      "  [  2   2   2]]\n",
      "\n",
      " [[255 255 255]\n",
      "  [255 255 255]\n",
      "  [255 255 255]\n",
      "  ...\n",
      "  [  0   0   0]\n",
      "  [  0   0   0]\n",
      "  [  2   2   2]]\n",
      "\n",
      " ...\n",
      "\n",
      " [[255 255 255]\n",
      "  [255 255 255]\n",
      "  [255 255 255]\n",
      "  ...\n",
      "  [  0   0   0]\n",
      "  [  1   1   1]\n",
      "  [  3   3   3]]\n",
      "\n",
      " [[255 255 255]\n",
      "  [255 255 255]\n",
      "  [255 255 255]\n",
      "  ...\n",
      "  [  0   0   0]\n",
      "  [  1   1   1]\n",
      "  [  3   3   3]]\n",
      "\n",
      " [[255 255 255]\n",
      "  [255 255 255]\n",
      "  [255 255 255]\n",
      "  ...\n",
      "  [  0   0   0]\n",
      "  [  1   1   1]\n",
      "  [  3   3   3]]]\n"
     ]
    }
   ],
   "source": [
    "print ('display the content of the image')\n",
    "print (img)"
   ]
  },
  {
   "cell_type": "code",
   "execution_count": 4,
   "metadata": {},
   "outputs": [
    {
     "name": "stdout",
     "output_type": "stream",
     "text": [
      "In Python, an image is stored in a numpy array. Numpy is library used for scientific computing of multi-dimensional arrays and matrices.\n",
      "we can determine several features of the images using numpy array properties\n",
      "type of an image type(img): <class 'numpy.ndarray'>\n",
      "size of the image img.size: 1350\n"
     ]
    }
   ],
   "source": [
    "print ('In Python, an image is stored in a numpy array. Numpy is library used for scientific computing of multi-dimensional arrays and matrices.')\n",
    "\n",
    "print ('we can determine several features of the images using numpy array properties')\n",
    "print ('type of an image type(img): %s'%type(img))\n",
    "print ('size of the image img.size: %d'%img.size)"
   ]
  },
  {
   "cell_type": "code",
   "execution_count": 5,
   "metadata": {},
   "outputs": [
    {
     "name": "stdout",
     "output_type": "stream",
     "text": [
      "length of the image (number of pixel in the vertical direction) len(img): 15\n",
      "shape of an image (length in pixe, width in pixel, number of color) img.shape (15,30,3)\n",
      "image length (also height) img.shape[0]: 15\n",
      "image width img.shape[1]: 30\n"
     ]
    }
   ],
   "source": [
    "print ('length of the image (number of pixel in the vertical direction) len(img): %d'%len(img))\n",
    "print ('shape of an image (length in pixe, width in pixel, number of color) img.shape (%d,%d,%d)'%img.shape)\n",
    "print ('image length (also height) img.shape[0]: %d'%img.shape[0])\n",
    "print ('image width img.shape[1]: %d'%img.shape[1])"
   ]
  },
  {
   "cell_type": "code",
   "execution_count": 6,
   "metadata": {},
   "outputs": [
    {
     "name": "stdout",
     "output_type": "stream",
     "text": [
      "height = 15\n",
      "width = 30\n",
      "channels = 3\n"
     ]
    }
   ],
   "source": [
    "height, width, channels = img.shape\n",
    "print ('height = %d'%height)\n",
    "print ('width = %d'%width)\n",
    "print ('channels = %d'%channels)"
   ]
  },
  {
   "cell_type": "code",
   "execution_count": 7,
   "metadata": {},
   "outputs": [
    {
     "name": "stdout",
     "output_type": "stream",
     "text": [
      "number of colors per pixel img.shape[2]: 3\n",
      "number of pixels: 450\n"
     ]
    }
   ],
   "source": [
    "print ('number of colors per pixel img.shape[2]: %d'%img.shape[2])\n",
    "print ('number of pixels: %d'%(img.shape[0]*img.shape[1]))"
   ]
  },
  {
   "cell_type": "code",
   "execution_count": 8,
   "metadata": {},
   "outputs": [
    {
     "name": "stdout",
     "output_type": "stream",
     "text": [
      "type of the image img.dtype: uint8\n",
      "sub-image at row [10] (img[10])\n",
      "[[255 255 255]\n",
      " [255 255 255]\n",
      " [255 255 255]\n",
      " [255 255 255]\n",
      " [255 255 255]\n",
      " [255 255 255]\n",
      " [255 255 255]\n",
      " [255 255 255]\n",
      " [255 255 255]\n",
      " [254 254 254]\n",
      " [255 255 255]\n",
      " [255 255 255]\n",
      " [254 254 254]\n",
      " [255 255 255]\n",
      " [243 243 243]\n",
      " [ 76  76  76]\n",
      " [  1   1   1]\n",
      " [ 18  18  18]\n",
      " [  1   1   1]\n",
      " [  0   0   0]\n",
      " [  1   1   1]\n",
      " [  0   0   0]\n",
      " [  0   0   0]\n",
      " [  0   0   0]\n",
      " [  0   0   0]\n",
      " [  1   1   1]\n",
      " [  0   0   0]\n",
      " [  0   0   0]\n",
      " [  0   0   0]\n",
      " [  2   2   2]]\n"
     ]
    }
   ],
   "source": [
    "print ('type of the image img.dtype: %s'%img.dtype)\n",
    "print ('sub-image at row [10] (img[10])')\n",
    "print (img[10])"
   ]
  },
  {
   "cell_type": "code",
   "execution_count": 9,
   "metadata": {},
   "outputs": [
    {
     "name": "stdout",
     "output_type": "stream",
     "text": [
      "shape of sub-image at row [0] (img[10].shape)\n",
      "(30, 3)\n"
     ]
    }
   ],
   "source": [
    "print ('shape of sub-image at row [0] (img[10].shape)')\n",
    "print (img[10].shape)"
   ]
  },
  {
   "cell_type": "code",
   "execution_count": 10,
   "metadata": {},
   "outputs": [
    {
     "name": "stdout",
     "output_type": "stream",
     "text": [
      "pixel at raw 10 and column 5 (img[10, 5])\n",
      "[255 255 255]\n",
      "[255 255 255]\n"
     ]
    }
   ],
   "source": [
    "print ('pixel at raw 10 and column 5 (img[10, 5])')\n",
    "print (img[10, 5])\n",
    "print (img[10] [5])"
   ]
  },
  {
   "cell_type": "code",
   "execution_count": 11,
   "metadata": {},
   "outputs": [
    {
     "name": "stdout",
     "output_type": "stream",
     "text": [
      "pixel at raw 0 and column 0 (img[0, 0])\n",
      "[255 255 255]\n",
      "[255 255 255]\n"
     ]
    }
   ],
   "source": [
    "print ('pixel at raw 0 and column 0 (img[0, 0])')\n",
    "print (img[0, 0])\n",
    "print (img[0] [0])"
   ]
  },
  {
   "cell_type": "code",
   "execution_count": 12,
   "metadata": {},
   "outputs": [
    {
     "name": "stdout",
     "output_type": "stream",
     "text": [
      "you can see a single channel in the image, for example only the first channel\n",
      "[[255 255 255 255 255 255 255 255 255 255 255 255 254 255 243  76   1  18\n",
      "    1   0   1   0   0   0   0   1   0   0   0   2]\n",
      " [255 255 255 255 255 255 255 255 255 255 255 255 254 255 243  76   1  18\n",
      "    1   0   1   0   0   0   0   1   0   0   0   2]\n",
      " [255 255 255 255 255 255 255 255 255 255 255 255 254 255 243  76   1  18\n",
      "    1   0   1   0   0   0   0   1   0   0   0   2]\n",
      " [255 255 255 255 255 255 255 255 255 255 255 255 254 255 243  76   1  18\n",
      "    1   0   1   0   0   0   0   1   0   0   0   2]\n",
      " [255 255 255 255 255 255 255 255 255 255 255 255 254 255 243  76   1  18\n",
      "    1   0   1   0   0   0   0   1   0   0   0   2]\n",
      " [255 255 255 255 255 255 255 255 255 255 255 255 254 255 243  76   1  18\n",
      "    1   0   1   0   0   0   0   1   0   0   0   2]\n",
      " [255 255 255 255 255 255 255 255 255 255 255 255 254 255 243  76   1  18\n",
      "    1   0   1   0   0   0   0   1   0   0   0   2]\n",
      " [255 255 255 255 255 255 255 255 255 255 255 255 254 255 243  76   1  18\n",
      "    1   0   1   0   0   0   0   1   0   0   0   2]\n",
      " [255 255 255 255 255 255 255 255 255 254 255 255 254 255 243  76   1  18\n",
      "    1   0   1   0   0   0   0   1   0   0   0   2]\n",
      " [255 255 255 255 255 255 255 255 255 254 255 255 254 255 243  76   1  18\n",
      "    1   0   1   0   0   0   0   1   0   0   0   2]\n",
      " [255 255 255 255 255 255 255 255 255 254 255 255 254 255 243  76   1  18\n",
      "    1   0   1   0   0   0   0   1   0   0   0   2]\n",
      " [255 255 255 255 255 255 255 255 255 254 255 255 254 255 243  76   1  18\n",
      "    1   0   1   0   0   0   0   1   0   0   0   2]\n",
      " [255 255 255 255 255 255 255 255 255 254 255 255 254 255 243  76   1  18\n",
      "    1   0   1   0   0   0   0   1   1   0   1   3]\n",
      " [255 255 255 255 255 255 255 255 255 254 255 255 254 255 243  76   1  18\n",
      "    1   0   1   0   0   0   0   1   1   0   1   3]\n",
      " [255 255 255 255 255 255 255 255 255 254 255 255 254 255 243  76   1  18\n",
      "    1   0   1   0   0   0   0   1   1   0   1   3]]\n"
     ]
    }
   ],
   "source": [
    "print ('you can see a single channel in the image, for example only the first channel')\n",
    "print (img[:, :, 0])"
   ]
  },
  {
   "cell_type": "code",
   "execution_count": null,
   "metadata": {},
   "outputs": [],
   "source": []
  },
  {
   "cell_type": "code",
   "execution_count": null,
   "metadata": {},
   "outputs": [],
   "source": []
  }
 ],
 "metadata": {
  "kernelspec": {
   "display_name": "Python 3",
   "language": "python",
   "name": "python3"
  },
  "language_info": {
   "codemirror_mode": {
    "name": "ipython",
    "version": 3
   },
   "file_extension": ".py",
   "mimetype": "text/x-python",
   "name": "python",
   "nbconvert_exporter": "python",
   "pygments_lexer": "ipython3",
   "version": "3.8.5"
  }
 },
 "nbformat": 4,
 "nbformat_minor": 4
}
